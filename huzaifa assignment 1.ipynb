{
 "cells": [
  {
   "cell_type": "code",
   "execution_count": 4,
   "id": "410c6d6d",
   "metadata": {},
   "outputs": [
    {
     "name": "stdout",
     "output_type": "stream",
     "text": [
      "Twinkle, Twinkle,Little star,\n",
      "\t How I wonder whAT YOU ARE!\n",
      "\t\t Up above the world so high,\n",
      "\t\t Like a diamond in the sky.\n",
      "\r",
      "\r",
      " Twinkle, Twinkle,Little star,\n",
      "\t How I wonder whAT YOU ARE!\n"
     ]
    }
   ],
   "source": [
    "#Question 1:\n",
    "\n",
    "print(\"Twinkle, Twinkle,Little star,\\n\\t How I wonder whAT YOU ARE!\\n\\t\\t Up above the world so high,\\n\\t\\t Like a diamond in the sky.\\n\\r\\r Twinkle, Twinkle,Little star,\\n\\t How I wonder whAT YOU ARE!\")"
   ]
  },
  {
   "cell_type": "code",
   "execution_count": 54,
   "id": "c09f21a8",
   "metadata": {},
   "outputs": [
    {
     "name": "stdout",
     "output_type": "stream",
     "text": [
      "31/12/2021 23:17:14\n",
      "31/12/2021\n",
      "23:17:14\n"
     ]
    }
   ],
   "source": [
    "#Question 2:\n",
    "    \n",
    "from datetime import datetime\n",
    "date=datetime.today()\n",
    "now=datetime.now()\n",
    "d1=now.strftime(\"%d/%m/%Y %H:%M:%S\")\n",
    "d2=now.strftime(\"%d/%m/%Y\")\n",
    "d3=now.strftime(\"%H:%M:%S\")\n",
    "print(d1)\n",
    "print(d2)\n",
    "print(d3)"
   ]
  },
  {
   "cell_type": "code",
   "execution_count": 58,
   "id": "7285f87e",
   "metadata": {},
   "outputs": [
    {
     "name": "stdout",
     "output_type": "stream",
     "text": [
      "3.9.7 (default, Sep 16 2021, 16:59:28) [MSC v.1916 64 bit (AMD64)]\n"
     ]
    }
   ],
   "source": [
    "#Question 3:\n",
    "\n",
    "import sys\n",
    "print(sys.version)"
   ]
  },
  {
   "cell_type": "code",
   "execution_count": 73,
   "id": "67967d5d",
   "metadata": {},
   "outputs": [
    {
     "name": "stdout",
     "output_type": "stream",
     "text": [
      "Enter radius2\n",
      "The Area of given  radius 2 6.34\n"
     ]
    }
   ],
   "source": [
    "#Question 4\n",
    "value=int(input(\"Enter radius\"))\n",
    "Area=3.17*value\n",
    "print(\"The Area of given  radius\" ,value  , Area)\n",
    "  "
   ]
  },
  {
   "cell_type": "code",
   "execution_count": 74,
   "id": "ab2107ec",
   "metadata": {},
   "outputs": [
    {
     "data": {
      "text/plain": [
       "['salman', 'hammad ', 'abha']"
      ]
     },
     "execution_count": 74,
     "metadata": {},
     "output_type": "execute_result"
    }
   ],
   "source": [
    "#Question 5 practice\n",
    "huzaifa=[\"abha\", \"hammad \",\"salman\"]\n",
    "list(reversed(huzaifa))"
   ]
  },
  {
   "cell_type": "code",
   "execution_count": 111,
   "id": "87ccd6db",
   "metadata": {},
   "outputs": [
    {
     "data": {
      "text/plain": [
       "['abha']"
      ]
     },
     "execution_count": 111,
     "metadata": {},
     "output_type": "execute_result"
    }
   ],
   "source": [
    "#Question 5 practice\n",
    "\n",
    "huzaifa=[\"abha\"]\n",
    "huzaifa[::-1]"
   ]
  },
  {
   "cell_type": "code",
   "execution_count": 107,
   "id": "77093056",
   "metadata": {},
   "outputs": [
    {
     "data": {
      "text/plain": [
       "['salman', 'hammad ', 'abha']"
      ]
     },
     "execution_count": 107,
     "metadata": {},
     "output_type": "execute_result"
    }
   ],
   "source": [
    "#Question 5 practice\n",
    "huzaifa=[\"abha\", \"hammad \",\"salman\"]\n",
    "huzaifa.reverse()\n",
    "huzaifa"
   ]
  },
  {
   "cell_type": "code",
   "execution_count": 131,
   "id": "ac995997",
   "metadata": {},
   "outputs": [
    {
     "name": "stdout",
     "output_type": "stream",
     "text": [
      "Enter first name: huzaifa\n",
      "enter last name : abha\n"
     ]
    },
    {
     "data": {
      "text/plain": [
       "'ahba afiazuh'"
      ]
     },
     "execution_count": 131,
     "metadata": {},
     "output_type": "execute_result"
    }
   ],
   "source": [
    "#Question 5 practice\n",
    "val1=(input(\"Enter first name: \" ))\n",
    "val2=(input(\"enter last name : \")) \n",
    "huz=val1 + ' ' + val2\n",
    "huz[::-1]\n",
    "\n"
   ]
  },
  {
   "cell_type": "code",
   "execution_count": 141,
   "id": "13eaf4c8",
   "metadata": {},
   "outputs": [
    {
     "name": "stdout",
     "output_type": "stream",
     "text": [
      "Enter first name :huzaifa\n",
      "enter last name :abha\n"
     ]
    },
    {
     "data": {
      "text/plain": [
       "['abha', 'huzaifa']"
      ]
     },
     "execution_count": 141,
     "metadata": {},
     "output_type": "execute_result"
    }
   ],
   "source": [
    "\n",
    "val1=(input(\"Enter first name :\" ))\n",
    "val2=(input(\"enter last name :\")) \n",
    "huz=val1 +' '+ val2\n",
    "words=huz.split()\n",
    "words[-1::-1]"
   ]
  },
  {
   "cell_type": "code",
   "execution_count": 176,
   "id": "41f9c9e0",
   "metadata": {},
   "outputs": [
    {
     "name": "stdout",
     "output_type": "stream",
     "text": [
      "welcome to our calculator\n",
      "choose the operator \n",
      " 1 Addition + \n",
      " 2 Subtraction - \n",
      " 3 Multipliication * \n",
      " 4 Division / \n",
      "Enter the value12\n",
      "Enter the value12\n",
      "Enter the operator*\n",
      "12 * 12 = \n",
      "144\n"
     ]
    }
   ],
   "source": [
    "#Question 6\n",
    "print(\"welcome to our calculator\")\n",
    "print( \"choose the operator \\n 1 Addition + \\n 2 Subtraction - \\n 3 Multipliication * \\n 4 Division / \" )\n",
    "val1=int(input(\"Enter the value\"))\n",
    "val2=int(input(\"Enter the value\"))\n",
    "ch=(input(\"Enter the operator\"))\n",
    "\n",
    "if ch==\"+\":\n",
    "\n",
    "         print('{} + {} = '.format(val1, val2))\n",
    "         print(val1+ val2)\n",
    "            \n",
    "elif ch== \"-\":\n",
    "         print('{} - {} = '.format(val1, val2))\n",
    "         print(val1- val2)\n",
    "        \n",
    "elif ch == \"*\":\n",
    "         print('{} * {} = '.format(val1, val2))\n",
    "         print(val1 * val2)\n",
    "        \n",
    "elif ch == \"/\":\n",
    "         print('{} / {} = '.format(val1, val2))\n",
    "         print(val1/ val2)\n",
    "        \n",
    "        \n",
    "else:\n",
    "         print(\"use right character \")\n",
    "    "
   ]
  },
  {
   "cell_type": "code",
   "execution_count": null,
   "id": "26cb4a42",
   "metadata": {},
   "outputs": [],
   "source": []
  },
  {
   "cell_type": "code",
   "execution_count": 175,
   "id": "54b0e41d",
   "metadata": {},
   "outputs": [
    {
     "ename": "KeyboardInterrupt",
     "evalue": "Interrupted by user",
     "output_type": "error",
     "traceback": [
      "\u001b[1;31m---------------------------------------------------------------------------\u001b[0m",
      "\u001b[1;31mKeyboardInterrupt\u001b[0m                         Traceback (most recent call last)",
      "\u001b[1;32m~\\AppData\\Local\\Temp/ipykernel_11112/4143720670.py\u001b[0m in \u001b[0;36m<module>\u001b[1;34m\u001b[0m\n\u001b[1;32m----> 1\u001b[1;33m \u001b[0mnumber_1\u001b[0m \u001b[1;33m=\u001b[0m \u001b[0mint\u001b[0m\u001b[1;33m(\u001b[0m\u001b[0minput\u001b[0m\u001b[1;33m(\u001b[0m\u001b[1;34m'Please enter the first number: '\u001b[0m\u001b[1;33m)\u001b[0m\u001b[1;33m)\u001b[0m\u001b[1;33m\u001b[0m\u001b[1;33m\u001b[0m\u001b[0m\n\u001b[0m\u001b[0;32m      2\u001b[0m \u001b[0mnumber_2\u001b[0m \u001b[1;33m=\u001b[0m \u001b[0mint\u001b[0m\u001b[1;33m(\u001b[0m\u001b[0minput\u001b[0m\u001b[1;33m(\u001b[0m\u001b[1;34m'Please enter the second number: '\u001b[0m\u001b[1;33m)\u001b[0m\u001b[1;33m)\u001b[0m\u001b[1;33m\u001b[0m\u001b[1;33m\u001b[0m\u001b[0m\n\u001b[0;32m      3\u001b[0m \u001b[0moperation\u001b[0m\u001b[1;33m=\u001b[0m\u001b[0minput\u001b[0m\u001b[1;33m(\u001b[0m\u001b[1;34m\"enter the operator\"\u001b[0m\u001b[1;33m)\u001b[0m\u001b[1;33m\u001b[0m\u001b[1;33m\u001b[0m\u001b[0m\n\u001b[0;32m      4\u001b[0m \u001b[1;32mif\u001b[0m \u001b[0moperation\u001b[0m \u001b[1;33m==\u001b[0m \u001b[1;34m'+'\u001b[0m\u001b[1;33m:\u001b[0m\u001b[1;33m\u001b[0m\u001b[1;33m\u001b[0m\u001b[0m\n\u001b[0;32m      5\u001b[0m     \u001b[0mprint\u001b[0m\u001b[1;33m(\u001b[0m\u001b[1;34m'{} + {} = '\u001b[0m\u001b[1;33m.\u001b[0m\u001b[0mformat\u001b[0m\u001b[1;33m(\u001b[0m\u001b[0mnumber_1\u001b[0m\u001b[1;33m,\u001b[0m \u001b[0mnumber_2\u001b[0m\u001b[1;33m)\u001b[0m\u001b[1;33m)\u001b[0m\u001b[1;33m\u001b[0m\u001b[1;33m\u001b[0m\u001b[0m\n",
      "\u001b[1;32m~\\anaconda3\\lib\\site-packages\\ipykernel\\kernelbase.py\u001b[0m in \u001b[0;36mraw_input\u001b[1;34m(self, prompt)\u001b[0m\n\u001b[0;32m   1004\u001b[0m                 \u001b[1;34m\"raw_input was called, but this frontend does not support input requests.\"\u001b[0m\u001b[1;33m\u001b[0m\u001b[1;33m\u001b[0m\u001b[0m\n\u001b[0;32m   1005\u001b[0m             )\n\u001b[1;32m-> 1006\u001b[1;33m         return self._input_request(\n\u001b[0m\u001b[0;32m   1007\u001b[0m             \u001b[0mstr\u001b[0m\u001b[1;33m(\u001b[0m\u001b[0mprompt\u001b[0m\u001b[1;33m)\u001b[0m\u001b[1;33m,\u001b[0m\u001b[1;33m\u001b[0m\u001b[1;33m\u001b[0m\u001b[0m\n\u001b[0;32m   1008\u001b[0m             \u001b[0mself\u001b[0m\u001b[1;33m.\u001b[0m\u001b[0m_parent_ident\u001b[0m\u001b[1;33m[\u001b[0m\u001b[1;34m\"shell\"\u001b[0m\u001b[1;33m]\u001b[0m\u001b[1;33m,\u001b[0m\u001b[1;33m\u001b[0m\u001b[1;33m\u001b[0m\u001b[0m\n",
      "\u001b[1;32m~\\anaconda3\\lib\\site-packages\\ipykernel\\kernelbase.py\u001b[0m in \u001b[0;36m_input_request\u001b[1;34m(self, prompt, ident, parent, password)\u001b[0m\n\u001b[0;32m   1049\u001b[0m             \u001b[1;32mexcept\u001b[0m \u001b[0mKeyboardInterrupt\u001b[0m\u001b[1;33m:\u001b[0m\u001b[1;33m\u001b[0m\u001b[1;33m\u001b[0m\u001b[0m\n\u001b[0;32m   1050\u001b[0m                 \u001b[1;31m# re-raise KeyboardInterrupt, to truncate traceback\u001b[0m\u001b[1;33m\u001b[0m\u001b[1;33m\u001b[0m\u001b[0m\n\u001b[1;32m-> 1051\u001b[1;33m                 \u001b[1;32mraise\u001b[0m \u001b[0mKeyboardInterrupt\u001b[0m\u001b[1;33m(\u001b[0m\u001b[1;34m\"Interrupted by user\"\u001b[0m\u001b[1;33m)\u001b[0m \u001b[1;32mfrom\u001b[0m \u001b[1;32mNone\u001b[0m\u001b[1;33m\u001b[0m\u001b[1;33m\u001b[0m\u001b[0m\n\u001b[0m\u001b[0;32m   1052\u001b[0m             \u001b[1;32mexcept\u001b[0m \u001b[0mException\u001b[0m\u001b[1;33m:\u001b[0m\u001b[1;33m\u001b[0m\u001b[1;33m\u001b[0m\u001b[0m\n\u001b[0;32m   1053\u001b[0m                 \u001b[0mself\u001b[0m\u001b[1;33m.\u001b[0m\u001b[0mlog\u001b[0m\u001b[1;33m.\u001b[0m\u001b[0mwarning\u001b[0m\u001b[1;33m(\u001b[0m\u001b[1;34m\"Invalid Message:\"\u001b[0m\u001b[1;33m,\u001b[0m \u001b[0mexc_info\u001b[0m\u001b[1;33m=\u001b[0m\u001b[1;32mTrue\u001b[0m\u001b[1;33m)\u001b[0m\u001b[1;33m\u001b[0m\u001b[1;33m\u001b[0m\u001b[0m\n",
      "\u001b[1;31mKeyboardInterrupt\u001b[0m: Interrupted by user"
     ]
    }
   ],
   "source": [
    "\n",
    "    "
   ]
  },
  {
   "cell_type": "code",
   "execution_count": null,
   "id": "45ee69c9",
   "metadata": {},
   "outputs": [],
   "source": [
    "\n"
   ]
  },
  {
   "cell_type": "code",
   "execution_count": null,
   "id": "c5717080",
   "metadata": {},
   "outputs": [],
   "source": []
  }
 ],
 "metadata": {
  "kernelspec": {
   "display_name": "Python 3 (ipykernel)",
   "language": "python",
   "name": "python3"
  },
  "language_info": {
   "codemirror_mode": {
    "name": "ipython",
    "version": 3
   },
   "file_extension": ".py",
   "mimetype": "text/x-python",
   "name": "python",
   "nbconvert_exporter": "python",
   "pygments_lexer": "ipython3",
   "version": "3.9.7"
  }
 },
 "nbformat": 4,
 "nbformat_minor": 5
}
